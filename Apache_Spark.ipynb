{
  "nbformat": 4,
  "nbformat_minor": 0,
  "metadata": {
    "colab": {
      "provenance": []
    },
    "kernelspec": {
      "name": "python3",
      "display_name": "Python 3"
    },
    "language_info": {
      "name": "python"
    }
  },
  "cells": [
    {
      "cell_type": "code",
      "execution_count": null,
      "metadata": {
        "colab": {
          "base_uri": "https://localhost:8080/"
        },
        "id": "ctQuA3uznlTp",
        "outputId": "2407ea84-7c1e-4850-c42e-66d36b82c1d2"
      },
      "outputs": [
        {
          "output_type": "stream",
          "name": "stdout",
          "text": [
            "Looking in indexes: https://pypi.org/simple, https://us-python.pkg.dev/colab-wheels/public/simple/\n",
            "Collecting pyspark\n",
            "  Downloading pyspark-3.3.1.tar.gz (281.4 MB)\n",
            "\u001b[K     |████████████████████████████████| 281.4 MB 47 kB/s \n",
            "\u001b[?25hCollecting py4j==0.10.9.5\n",
            "  Downloading py4j-0.10.9.5-py2.py3-none-any.whl (199 kB)\n",
            "\u001b[K     |████████████████████████████████| 199 kB 55.0 MB/s \n",
            "\u001b[?25hBuilding wheels for collected packages: pyspark\n",
            "  Building wheel for pyspark (setup.py) ... \u001b[?25l\u001b[?25hdone\n",
            "  Created wheel for pyspark: filename=pyspark-3.3.1-py2.py3-none-any.whl size=281845512 sha256=8cc8dcf6cb3250dccb72768f0c90f66a73308241a871e065dc26bd0e391d1995\n",
            "  Stored in directory: /root/.cache/pip/wheels/43/dc/11/ec201cd671da62fa9c5cc77078235e40722170ceba231d7598\n",
            "Successfully built pyspark\n",
            "Installing collected packages: py4j, pyspark\n",
            "Successfully installed py4j-0.10.9.5 pyspark-3.3.1\n"
          ]
        }
      ],
      "source": [
        "!pip install pyspark"
      ]
    },
    {
      "cell_type": "code",
      "source": [
        "import pyspark"
      ],
      "metadata": {
        "id": "XsvDVOCJoID7"
      },
      "execution_count": null,
      "outputs": []
    },
    {
      "cell_type": "code",
      "source": [
        "import pandas as pd\n",
        "pandas_df = pd.read_csv('MyFriends_Ages1.csv')\n",
        "type(pandas_df)"
      ],
      "metadata": {
        "colab": {
          "base_uri": "https://localhost:8080/"
        },
        "id": "YZsLavcsoLXF",
        "outputId": "7ed2df66-9a24-4f73-bf5a-24f9a8346e77"
      },
      "execution_count": null,
      "outputs": [
        {
          "output_type": "execute_result",
          "data": {
            "text/plain": [
              "pandas.core.frame.DataFrame"
            ]
          },
          "metadata": {},
          "execution_count": 30
        }
      ]
    },
    {
      "cell_type": "code",
      "source": [
        "from pyspark.sql import SparkSession"
      ],
      "metadata": {
        "id": "AjFLFc7Eo3v9"
      },
      "execution_count": null,
      "outputs": []
    },
    {
      "cell_type": "code",
      "source": [
        "spark=SparkSession.builder.appName('Practice').getOrCreate()"
      ],
      "metadata": {
        "id": "EQevWFHmpDRm"
      },
      "execution_count": null,
      "outputs": []
    },
    {
      "cell_type": "code",
      "source": [
        "spark"
      ],
      "metadata": {
        "colab": {
          "base_uri": "https://localhost:8080/",
          "height": 219
        },
        "id": "yz1Pk1aEpXxJ",
        "outputId": "a254ac9b-9e10-42cd-ebfc-65b1aead6810"
      },
      "execution_count": null,
      "outputs": [
        {
          "output_type": "execute_result",
          "data": {
            "text/plain": [
              "<pyspark.sql.session.SparkSession at 0x7f7b6a6a34c0>"
            ],
            "text/html": [
              "\n",
              "            <div>\n",
              "                <p><b>SparkSession - in-memory</b></p>\n",
              "                \n",
              "        <div>\n",
              "            <p><b>SparkContext</b></p>\n",
              "\n",
              "            <p><a href=\"http://f87855633211:4040\">Spark UI</a></p>\n",
              "\n",
              "            <dl>\n",
              "              <dt>Version</dt>\n",
              "                <dd><code>v3.3.1</code></dd>\n",
              "              <dt>Master</dt>\n",
              "                <dd><code>local[*]</code></dd>\n",
              "              <dt>AppName</dt>\n",
              "                <dd><code>Practice</code></dd>\n",
              "            </dl>\n",
              "        </div>\n",
              "        \n",
              "            </div>\n",
              "        "
            ]
          },
          "metadata": {},
          "execution_count": 7
        }
      ]
    },
    {
      "cell_type": "code",
      "source": [
        "df_pyspark = spark.read.csv('MyFriends_Ages1.csv')\n",
        "df_pyspark.show()"
      ],
      "metadata": {
        "colab": {
          "base_uri": "https://localhost:8080/"
        },
        "id": "yM7m-IkVpjmN",
        "outputId": "52787950-cba4-4791-88ba-a9a846f58cde"
      },
      "execution_count": null,
      "outputs": [
        {
          "output_type": "stream",
          "name": "stdout",
          "text": [
            "+--------+---+\n",
            "|     _c0|_c1|\n",
            "+--------+---+\n",
            "|    Name|Age|\n",
            "|Pankhuri| 23|\n",
            "|   Nitin| 23|\n",
            "|   Tanya| 23|\n",
            "| Aanchal| 23|\n",
            "+--------+---+\n",
            "\n"
          ]
        }
      ]
    },
    {
      "cell_type": "code",
      "source": [
        "df_pyspark = spark.read.option('header','true').csv('MyFriends_Ages1.csv')\n",
        "type(df_pyspark)"
      ],
      "metadata": {
        "colab": {
          "base_uri": "https://localhost:8080/"
        },
        "id": "bBpl7hS1qKCm",
        "outputId": "3ad955c8-bbd5-402c-be8d-4b011c9932b1"
      },
      "execution_count": null,
      "outputs": [
        {
          "output_type": "execute_result",
          "data": {
            "text/plain": [
              "pyspark.sql.dataframe.DataFrame"
            ]
          },
          "metadata": {},
          "execution_count": 13
        }
      ]
    },
    {
      "cell_type": "code",
      "source": [
        "df_pyspark.head(3)"
      ],
      "metadata": {
        "colab": {
          "base_uri": "https://localhost:8080/"
        },
        "id": "bmQTk1t6qnXs",
        "outputId": "923522d8-06c1-4f50-d45a-c5805b648491"
      },
      "execution_count": null,
      "outputs": [
        {
          "output_type": "execute_result",
          "data": {
            "text/plain": [
              "[Row(Name='Pankhuri', Age='23'),\n",
              " Row(Name='Nitin', Age='23'),\n",
              " Row(Name='Tanya', Age='23')]"
            ]
          },
          "metadata": {},
          "execution_count": 16
        }
      ]
    },
    {
      "cell_type": "code",
      "source": [
        "df_pyspark.printSchema()"
      ],
      "metadata": {
        "colab": {
          "base_uri": "https://localhost:8080/"
        },
        "id": "-lCENHnarMQa",
        "outputId": "a5ea273e-edf3-4ba7-ccc3-c066a4629c21"
      },
      "execution_count": null,
      "outputs": [
        {
          "output_type": "stream",
          "name": "stdout",
          "text": [
            "root\n",
            " |-- Name: string (nullable = true)\n",
            " |-- Age: string (nullable = true)\n",
            "\n"
          ]
        }
      ]
    },
    {
      "cell_type": "code",
      "source": [
        "df_pyspark = spark.read.option('header','true').csv('Dataset-1.csv',inferSchema=True)"
      ],
      "metadata": {
        "id": "SrhRfs1Wriy5"
      },
      "execution_count": null,
      "outputs": []
    },
    {
      "cell_type": "code",
      "source": [
        "df_pyspark.printSchema()"
      ],
      "metadata": {
        "colab": {
          "base_uri": "https://localhost:8080/"
        },
        "id": "3XPPLfGHvoya",
        "outputId": "6447eaf7-29ff-4f07-8483-321b125a5e01"
      },
      "execution_count": null,
      "outputs": [
        {
          "output_type": "stream",
          "name": "stdout",
          "text": [
            "root\n",
            " |-- Name: string (nullable = true)\n",
            " |-- Age: integer (nullable = true)\n",
            " |-- Experience: integer (nullable = true)\n",
            "\n"
          ]
        }
      ]
    },
    {
      "cell_type": "code",
      "source": [
        "df_pyspark.columns"
      ],
      "metadata": {
        "colab": {
          "base_uri": "https://localhost:8080/"
        },
        "id": "_a1p4XVyv6Gt",
        "outputId": "34052215-a24e-4b8f-da64-b4d0188ea6fd"
      },
      "execution_count": null,
      "outputs": [
        {
          "output_type": "execute_result",
          "data": {
            "text/plain": [
              "['Name', 'Age', 'Experience']"
            ]
          },
          "metadata": {},
          "execution_count": 10
        }
      ]
    },
    {
      "cell_type": "code",
      "source": [
        "type(df_pyspark)"
      ],
      "metadata": {
        "id": "HI-fvvB663Kv",
        "colab": {
          "base_uri": "https://localhost:8080/"
        },
        "outputId": "f25f1887-a2e6-4cf7-da74-e3d883cd70ba"
      },
      "execution_count": null,
      "outputs": [
        {
          "output_type": "execute_result",
          "data": {
            "text/plain": [
              "pyspark.sql.dataframe.DataFrame"
            ]
          },
          "metadata": {},
          "execution_count": 11
        }
      ]
    },
    {
      "cell_type": "code",
      "source": [
        "df_pyspark.head(3)"
      ],
      "metadata": {
        "colab": {
          "base_uri": "https://localhost:8080/"
        },
        "id": "cvOqE6tUWTYc",
        "outputId": "58f0e70b-d895-45ab-babf-07de9009bada"
      },
      "execution_count": null,
      "outputs": [
        {
          "output_type": "execute_result",
          "data": {
            "text/plain": [
              "[Row(Name='Nitin', Age=23, Experience=3),\n",
              " Row(Name='Tanya', Age=23, Experience=2),\n",
              " Row(Name='Pankhuri', Age=23, Experience=2)]"
            ]
          },
          "metadata": {},
          "execution_count": 12
        }
      ]
    },
    {
      "cell_type": "code",
      "source": [
        "df_pyspark.show()"
      ],
      "metadata": {
        "colab": {
          "base_uri": "https://localhost:8080/"
        },
        "id": "CRdb8Jv-WXdh",
        "outputId": "25790ed4-4db9-4486-a966-ea30635ed287"
      },
      "execution_count": null,
      "outputs": [
        {
          "output_type": "stream",
          "name": "stdout",
          "text": [
            "+--------+---+----------+\n",
            "|    Name|Age|Experience|\n",
            "+--------+---+----------+\n",
            "|   Nitin| 23|         3|\n",
            "|   Tanya| 23|         2|\n",
            "|Pankhuri| 23|         2|\n",
            "+--------+---+----------+\n",
            "\n"
          ]
        }
      ]
    },
    {
      "cell_type": "code",
      "source": [
        "df_pyspark.select('Name').show()"
      ],
      "metadata": {
        "colab": {
          "base_uri": "https://localhost:8080/"
        },
        "id": "17Ha7KxDWlTj",
        "outputId": "451d2260-f991-42a7-a404-144b337e8bcd"
      },
      "execution_count": null,
      "outputs": [
        {
          "output_type": "stream",
          "name": "stdout",
          "text": [
            "+--------+\n",
            "|    Name|\n",
            "+--------+\n",
            "|   Nitin|\n",
            "|   Tanya|\n",
            "|Pankhuri|\n",
            "+--------+\n",
            "\n"
          ]
        }
      ]
    },
    {
      "cell_type": "code",
      "source": [
        "df_pyspark.select(['Name','Experience']).show()"
      ],
      "metadata": {
        "colab": {
          "base_uri": "https://localhost:8080/"
        },
        "id": "DskrqiiFWqTe",
        "outputId": "3c5df3db-8993-4629-826b-cf1ded94bd3b"
      },
      "execution_count": null,
      "outputs": [
        {
          "output_type": "stream",
          "name": "stdout",
          "text": [
            "+--------+----------+\n",
            "|    Name|Experience|\n",
            "+--------+----------+\n",
            "|   Nitin|         3|\n",
            "|   Tanya|         2|\n",
            "|Pankhuri|         2|\n",
            "+--------+----------+\n",
            "\n"
          ]
        }
      ]
    },
    {
      "cell_type": "code",
      "source": [
        "df_pyspark.dtypes\n",
        "#to show to datatypes of the columns"
      ],
      "metadata": {
        "colab": {
          "base_uri": "https://localhost:8080/"
        },
        "id": "GMMHvHt9YP_A",
        "outputId": "007d4304-1544-44cc-dc93-81dbec8c4ef4"
      },
      "execution_count": null,
      "outputs": [
        {
          "output_type": "execute_result",
          "data": {
            "text/plain": [
              "[('Name', 'string'), ('Age', 'int'), ('Experience', 'int')]"
            ]
          },
          "metadata": {},
          "execution_count": 16
        }
      ]
    },
    {
      "cell_type": "code",
      "source": [
        "df_pyspark.describe().show()"
      ],
      "metadata": {
        "colab": {
          "base_uri": "https://localhost:8080/"
        },
        "id": "U5CD3NW2bNW9",
        "outputId": "b008f7ed-ba1b-494b-ce15-f83e2d0cccf9"
      },
      "execution_count": null,
      "outputs": [
        {
          "output_type": "stream",
          "name": "stdout",
          "text": [
            "+-------+-----+----+------------------+\n",
            "|summary| Name| Age|        Experience|\n",
            "+-------+-----+----+------------------+\n",
            "|  count|    3|   3|                 3|\n",
            "|   mean| null|23.0|2.3333333333333335|\n",
            "| stddev| null| 0.0|0.5773502691896258|\n",
            "|    min|Nitin|  23|                 2|\n",
            "|    max|Tanya|  23|                 3|\n",
            "+-------+-----+----+------------------+\n",
            "\n"
          ]
        }
      ]
    },
    {
      "cell_type": "code",
      "source": [
        "### Adding new columns\n",
        "df_pyspark = df_pyspark.withColumn('Experience after 2 years',df_pyspark['Experience']+2)"
      ],
      "metadata": {
        "id": "8sB8JBD5bbWw"
      },
      "execution_count": null,
      "outputs": []
    },
    {
      "cell_type": "code",
      "source": [
        "df_pyspark.show()"
      ],
      "metadata": {
        "colab": {
          "base_uri": "https://localhost:8080/"
        },
        "id": "0Yiv_X2Yde2v",
        "outputId": "0d7b7a4b-ef73-4b31-bc93-e56562f4be16"
      },
      "execution_count": null,
      "outputs": [
        {
          "output_type": "stream",
          "name": "stdout",
          "text": [
            "+--------+---+----------+------------------------+\n",
            "|    Name|Age|Experience|Experience after 2 years|\n",
            "+--------+---+----------+------------------------+\n",
            "|   Nitin| 23|         3|                       5|\n",
            "|   Tanya| 23|         2|                       4|\n",
            "|Pankhuri| 23|         2|                       4|\n",
            "+--------+---+----------+------------------------+\n",
            "\n"
          ]
        }
      ]
    },
    {
      "cell_type": "code",
      "source": [
        "##Drop the column\n",
        "df_pyspark = df_pyspark.drop('Experience after 2 years')"
      ],
      "metadata": {
        "id": "rXX-GgX1d1Le"
      },
      "execution_count": null,
      "outputs": []
    },
    {
      "cell_type": "code",
      "source": [
        "df_pyspark.show()"
      ],
      "metadata": {
        "colab": {
          "base_uri": "https://localhost:8080/"
        },
        "id": "zaEqg6kIgGgn",
        "outputId": "dcf66b5d-9662-41da-c5e8-bda920f9cf15"
      },
      "execution_count": null,
      "outputs": [
        {
          "output_type": "stream",
          "name": "stdout",
          "text": [
            "+--------+---+----------+\n",
            "|    Name|Age|Experience|\n",
            "+--------+---+----------+\n",
            "|   Nitin| 23|         3|\n",
            "|   Tanya| 23|         2|\n",
            "|Pankhuri| 23|         2|\n",
            "+--------+---+----------+\n",
            "\n"
          ]
        }
      ]
    },
    {
      "cell_type": "code",
      "source": [
        "df_pyspark = df_pyspark.withColumnRenamed('Name','New Name')"
      ],
      "metadata": {
        "id": "wLGxFURYgOrW"
      },
      "execution_count": null,
      "outputs": []
    },
    {
      "cell_type": "code",
      "source": [
        "df_pyspark.show()"
      ],
      "metadata": {
        "colab": {
          "base_uri": "https://localhost:8080/"
        },
        "id": "s5-J0RtmhPQ2",
        "outputId": "03c44474-4e38-4bc8-f56e-19f6c3a42876"
      },
      "execution_count": null,
      "outputs": [
        {
          "output_type": "stream",
          "name": "stdout",
          "text": [
            "+--------+---+----------+\n",
            "|New Name|Age|Experience|\n",
            "+--------+---+----------+\n",
            "|   Nitin| 23|         3|\n",
            "|   Tanya| 23|         2|\n",
            "|Pankhuri| 23|         2|\n",
            "+--------+---+----------+\n",
            "\n"
          ]
        }
      ]
    },
    {
      "cell_type": "code",
      "source": [
        "##Handling Missing Values\n",
        "df_pyspark = spark.read.csv('MissingValuesDataset.csv',header=True,inferSchema=True)"
      ],
      "metadata": {
        "id": "tv2vXbKkhRTA"
      },
      "execution_count": null,
      "outputs": []
    },
    {
      "cell_type": "code",
      "source": [
        "df_pyspark.show()"
      ],
      "metadata": {
        "colab": {
          "base_uri": "https://localhost:8080/"
        },
        "id": "pnMer64kirUa",
        "outputId": "64e7727f-ce1b-456e-90a8-e6226a287399"
      },
      "execution_count": null,
      "outputs": [
        {
          "output_type": "stream",
          "name": "stdout",
          "text": [
            "+---------+----+----------+------+\n",
            "|     Name| Age|Experience|Salary|\n",
            "+---------+----+----------+------+\n",
            "|    Krish|  31|        10| 30000|\n",
            "|Sudhanshu|  30|         8| 24000|\n",
            "|    Sunny|  29|         4| 20000|\n",
            "|     Paul|  28|         3| 18000|\n",
            "|   Harsha|  27|         5| 15000|\n",
            "|  Shubham|  26|         9| 26000|\n",
            "|   Mahesh|null|      null| 10000|\n",
            "|     null|  34|        10| 40000|\n",
            "|     null|  36|      null| 38000|\n",
            "+---------+----+----------+------+\n",
            "\n"
          ]
        }
      ]
    },
    {
      "cell_type": "code",
      "source": [
        "#Drop the column\n",
        "df_pyspark.drop('Name').show()"
      ],
      "metadata": {
        "colab": {
          "base_uri": "https://localhost:8080/"
        },
        "id": "AKHRk4q3i1oT",
        "outputId": "c7c208db-4d8c-4d10-8b55-d1ee3c999d62"
      },
      "execution_count": null,
      "outputs": [
        {
          "output_type": "stream",
          "name": "stdout",
          "text": [
            "+----+----------+------+\n",
            "| Age|Experience|Salary|\n",
            "+----+----------+------+\n",
            "|  31|        10| 30000|\n",
            "|  30|         8| 24000|\n",
            "|  29|         4| 20000|\n",
            "|  28|         3| 18000|\n",
            "|  27|         5| 15000|\n",
            "|  26|         9| 26000|\n",
            "|null|      null| 10000|\n",
            "|  34|        10| 40000|\n",
            "|  36|      null| 38000|\n",
            "+----+----------+------+\n",
            "\n"
          ]
        }
      ]
    },
    {
      "cell_type": "code",
      "source": [
        "#to delete all the null values in the dataset\n",
        "df_pyspark.na.drop().show()"
      ],
      "metadata": {
        "colab": {
          "base_uri": "https://localhost:8080/"
        },
        "id": "Z4yWafG9jD6s",
        "outputId": "6ee5f422-6c62-40c3-d024-bf763881f315"
      },
      "execution_count": null,
      "outputs": [
        {
          "output_type": "stream",
          "name": "stdout",
          "text": [
            "+---------+---+----------+------+\n",
            "|     Name|Age|Experience|Salary|\n",
            "+---------+---+----------+------+\n",
            "|    Krish| 31|        10| 30000|\n",
            "|Sudhanshu| 30|         8| 24000|\n",
            "|    Sunny| 29|         4| 20000|\n",
            "|     Paul| 28|         3| 18000|\n",
            "|   Harsha| 27|         5| 15000|\n",
            "|  Shubham| 26|         9| 26000|\n",
            "+---------+---+----------+------+\n",
            "\n"
          ]
        }
      ]
    },
    {
      "cell_type": "code",
      "source": [
        "## If a row has all the nulls then only it will get dropped\n",
        "df_pyspark.na.drop(how=\"all\").show()"
      ],
      "metadata": {
        "colab": {
          "base_uri": "https://localhost:8080/"
        },
        "id": "v2UjB3bpjXKt",
        "outputId": "5ffda3c2-3a2a-4d5a-8f47-858278b6b15c"
      },
      "execution_count": null,
      "outputs": [
        {
          "output_type": "stream",
          "name": "stdout",
          "text": [
            "+---------+----+----------+------+\n",
            "|     Name| Age|Experience|Salary|\n",
            "+---------+----+----------+------+\n",
            "|    Krish|  31|        10| 30000|\n",
            "|Sudhanshu|  30|         8| 24000|\n",
            "|    Sunny|  29|         4| 20000|\n",
            "|     Paul|  28|         3| 18000|\n",
            "|   Harsha|  27|         5| 15000|\n",
            "|  Shubham|  26|         9| 26000|\n",
            "|   Mahesh|null|      null| 10000|\n",
            "|     null|  34|        10| 40000|\n",
            "|     null|  36|      null| 38000|\n",
            "+---------+----+----------+------+\n",
            "\n"
          ]
        }
      ]
    },
    {
      "cell_type": "code",
      "source": [
        "## Gonna drop any number of nulls\n",
        "df_pyspark.na.drop(how=\"any\").show()"
      ],
      "metadata": {
        "colab": {
          "base_uri": "https://localhost:8080/"
        },
        "id": "s8jsplWVkHqS",
        "outputId": "e69f09a3-994a-474a-d58f-a46354f6a5b8"
      },
      "execution_count": null,
      "outputs": [
        {
          "output_type": "stream",
          "name": "stdout",
          "text": [
            "+---------+---+----------+------+\n",
            "|     Name|Age|Experience|Salary|\n",
            "+---------+---+----------+------+\n",
            "|    Krish| 31|        10| 30000|\n",
            "|Sudhanshu| 30|         8| 24000|\n",
            "|    Sunny| 29|         4| 20000|\n",
            "|     Paul| 28|         3| 18000|\n",
            "|   Harsha| 27|         5| 15000|\n",
            "|  Shubham| 26|         9| 26000|\n",
            "+---------+---+----------+------+\n",
            "\n"
          ]
        }
      ]
    },
    {
      "cell_type": "code",
      "source": [
        "## If we have atleast 2 or more non-null values, it is going to keep it otherwise delete that row.\n",
        "df_pyspark.na.drop(how=\"any\",thresh=2).show()"
      ],
      "metadata": {
        "colab": {
          "base_uri": "https://localhost:8080/"
        },
        "id": "QHInODODmtC7",
        "outputId": "25eb05f7-1943-484d-c54b-e60aeae2f52b"
      },
      "execution_count": null,
      "outputs": [
        {
          "output_type": "stream",
          "name": "stdout",
          "text": [
            "+---------+----+----------+------+\n",
            "|     Name| Age|Experience|Salary|\n",
            "+---------+----+----------+------+\n",
            "|    Krish|  31|        10| 30000|\n",
            "|Sudhanshu|  30|         8| 24000|\n",
            "|    Sunny|  29|         4| 20000|\n",
            "|     Paul|  28|         3| 18000|\n",
            "|   Harsha|  27|         5| 15000|\n",
            "|  Shubham|  26|         9| 26000|\n",
            "|   Mahesh|null|      null| 10000|\n",
            "|     null|  34|        10| 40000|\n",
            "|     null|  36|      null| 38000|\n",
            "+---------+----+----------+------+\n",
            "\n"
          ]
        }
      ]
    },
    {
      "cell_type": "code",
      "source": [
        "## To remove null values from a specific column(the whole row will get deleted)\n",
        "df_pyspark.na.drop(how=\"any\",subset=['Experience']).show()"
      ],
      "metadata": {
        "colab": {
          "base_uri": "https://localhost:8080/"
        },
        "id": "i6L8auJlnjI5",
        "outputId": "f872577d-2a43-4272-85e9-138a1816a6d8"
      },
      "execution_count": null,
      "outputs": [
        {
          "output_type": "stream",
          "name": "stdout",
          "text": [
            "+---------+---+----------+------+\n",
            "|     Name|Age|Experience|Salary|\n",
            "+---------+---+----------+------+\n",
            "|    Krish| 31|        10| 30000|\n",
            "|Sudhanshu| 30|         8| 24000|\n",
            "|    Sunny| 29|         4| 20000|\n",
            "|     Paul| 28|         3| 18000|\n",
            "|   Harsha| 27|         5| 15000|\n",
            "|  Shubham| 26|         9| 26000|\n",
            "|     null| 34|        10| 40000|\n",
            "+---------+---+----------+------+\n",
            "\n"
          ]
        }
      ]
    },
    {
      "cell_type": "code",
      "source": [
        "df_pyspark.na.fill(\"Missing\",'Experience').show()"
      ],
      "metadata": {
        "colab": {
          "base_uri": "https://localhost:8080/"
        },
        "id": "aU28m6PSoWG8",
        "outputId": "bb715a3b-17c0-4bd1-ec02-5a05778e81d7"
      },
      "execution_count": null,
      "outputs": [
        {
          "output_type": "stream",
          "name": "stdout",
          "text": [
            "+---------+----+----------+------+\n",
            "|     Name| Age|Experience|Salary|\n",
            "+---------+----+----------+------+\n",
            "|    Krish|  31|        10| 30000|\n",
            "|Sudhanshu|  30|         8| 24000|\n",
            "|    Sunny|  29|         4| 20000|\n",
            "|     Paul|  28|         3| 18000|\n",
            "|   Harsha|  27|         5| 15000|\n",
            "|  Shubham|  26|         9| 26000|\n",
            "|   Mahesh|null|      null| 10000|\n",
            "|     null|  34|        10| 40000|\n",
            "|     null|  36|      null| 38000|\n",
            "+---------+----+----------+------+\n",
            "\n"
          ]
        }
      ]
    },
    {
      "cell_type": "code",
      "source": [
        "from pyspark.ml.feature import Imputer\n",
        "\n",
        "imputer = Imputer(\n",
        "    inputCols=['Age','Experience','Salary'],\n",
        "    outputCols=[\"{}_imputed\".format(c) for c in ['Age','Experience','Salary']]\n",
        ").setStrategy(\"mean\")"
      ],
      "metadata": {
        "id": "_K3nx7owpIKa"
      },
      "execution_count": null,
      "outputs": []
    },
    {
      "cell_type": "code",
      "source": [
        "## Add imputation column to the dataframe\n",
        "imputer.fit(df_pyspark).transform(df_pyspark).show()"
      ],
      "metadata": {
        "colab": {
          "base_uri": "https://localhost:8080/"
        },
        "id": "PZHW7ZgUq-KV",
        "outputId": "5cbdb310-074c-4a05-931f-e0c020a8d1ab"
      },
      "execution_count": null,
      "outputs": [
        {
          "output_type": "stream",
          "name": "stdout",
          "text": [
            "+---------+----+----------+------+-----------+------------------+--------------+\n",
            "|     Name| Age|Experience|Salary|Age_imputed|Experience_imputed|Salary_imputed|\n",
            "+---------+----+----------+------+-----------+------------------+--------------+\n",
            "|    Krish|  31|        10| 30000|         31|                10|         30000|\n",
            "|Sudhanshu|  30|         8| 24000|         30|                 8|         24000|\n",
            "|    Sunny|  29|         4| 20000|         29|                 4|         20000|\n",
            "|     Paul|  28|         3| 18000|         28|                 3|         18000|\n",
            "|   Harsha|  27|         5| 15000|         27|                 5|         15000|\n",
            "|  Shubham|  26|         9| 26000|         26|                 9|         26000|\n",
            "|   Mahesh|null|      null| 10000|         30|                 7|         10000|\n",
            "|     null|  34|        10| 40000|         34|                10|         40000|\n",
            "|     null|  36|      null| 38000|         36|                 7|         38000|\n",
            "+---------+----+----------+------+-----------+------------------+--------------+\n",
            "\n"
          ]
        }
      ]
    },
    {
      "cell_type": "code",
      "source": [
        "### FILTER OPERATIONS\n",
        "df_pyspark = spark.read.csv('FilterOperations.csv',header=True,inferSchema=True)"
      ],
      "metadata": {
        "id": "S3CcblXmrMC7"
      },
      "execution_count": null,
      "outputs": []
    },
    {
      "cell_type": "code",
      "source": [
        "df_pyspark.show()"
      ],
      "metadata": {
        "colab": {
          "base_uri": "https://localhost:8080/"
        },
        "id": "hNvmwCSfw6Pd",
        "outputId": "faaf0878-4eec-414b-d352-4ad41805acd5"
      },
      "execution_count": null,
      "outputs": [
        {
          "output_type": "stream",
          "name": "stdout",
          "text": [
            "+---------+---+----------+------+\n",
            "|     Name|Age|Experience|Salary|\n",
            "+---------+---+----------+------+\n",
            "|    Krish| 31|        10| 30000|\n",
            "|Sudhanshu| 30|         8| 25000|\n",
            "|    Sunny| 29|         4| 20000|\n",
            "|     Paul| 24|         3| 20000|\n",
            "|   Harsha| 21|         1| 15000|\n",
            "|  Shubham| 23|         2| 18000|\n",
            "+---------+---+----------+------+\n",
            "\n"
          ]
        }
      ]
    },
    {
      "cell_type": "code",
      "source": [
        "## Filter the rows which have salary less than or equal to 20000\n",
        "df_pyspark.filter(\"Salary<=20000\").select(['Name','Age']).show()"
      ],
      "metadata": {
        "colab": {
          "base_uri": "https://localhost:8080/"
        },
        "id": "eAFbhsocxB2e",
        "outputId": "d2ab11b5-b370-4300-c9f2-16f5853b6090"
      },
      "execution_count": null,
      "outputs": [
        {
          "output_type": "stream",
          "name": "stdout",
          "text": [
            "+-------+---+\n",
            "|   Name|Age|\n",
            "+-------+---+\n",
            "|  Sunny| 29|\n",
            "|   Paul| 24|\n",
            "| Harsha| 21|\n",
            "|Shubham| 23|\n",
            "+-------+---+\n",
            "\n"
          ]
        }
      ]
    },
    {
      "cell_type": "code",
      "source": [
        "df_pyspark.filter(df_pyspark[\"Salary\"]>=20000).show()"
      ],
      "metadata": {
        "colab": {
          "base_uri": "https://localhost:8080/"
        },
        "id": "M401aOkfxye-",
        "outputId": "8f8f353c-9418-4ca6-cedc-bf27fd49ed95"
      },
      "execution_count": null,
      "outputs": [
        {
          "output_type": "stream",
          "name": "stdout",
          "text": [
            "+---------+---+----------+------+\n",
            "|     Name|Age|Experience|Salary|\n",
            "+---------+---+----------+------+\n",
            "|    Krish| 31|        10| 30000|\n",
            "|Sudhanshu| 30|         8| 25000|\n",
            "|    Sunny| 29|         4| 20000|\n",
            "|     Paul| 24|         3| 20000|\n",
            "+---------+---+----------+------+\n",
            "\n"
          ]
        }
      ]
    },
    {
      "cell_type": "code",
      "source": [
        "df_pyspark.filter((df_pyspark[\"Salary\"]>=20000) & (df_pyspark[\"Salary\"]<=30000)).show()"
      ],
      "metadata": {
        "colab": {
          "base_uri": "https://localhost:8080/"
        },
        "id": "ug-tKObjy5aK",
        "outputId": "cbdbb634-d6f3-4619-a4c2-fb2b6e3dfc5f"
      },
      "execution_count": null,
      "outputs": [
        {
          "output_type": "stream",
          "name": "stdout",
          "text": [
            "+---------+---+----------+------+\n",
            "|     Name|Age|Experience|Salary|\n",
            "+---------+---+----------+------+\n",
            "|    Krish| 31|        10| 30000|\n",
            "|Sudhanshu| 30|         8| 25000|\n",
            "|    Sunny| 29|         4| 20000|\n",
            "|     Paul| 24|         3| 20000|\n",
            "+---------+---+----------+------+\n",
            "\n"
          ]
        }
      ]
    },
    {
      "cell_type": "code",
      "source": [
        "#Not Operation\n",
        "df_pyspark.filter(~(df_pyspark[\"Salary\"]>=20000)).show()"
      ],
      "metadata": {
        "colab": {
          "base_uri": "https://localhost:8080/"
        },
        "id": "5x2wXG8_zENf",
        "outputId": "2ea3f908-e85b-4341-fd95-8c95f71d6fc9"
      },
      "execution_count": null,
      "outputs": [
        {
          "output_type": "stream",
          "name": "stdout",
          "text": [
            "+-------+---+----------+------+\n",
            "|   Name|Age|Experience|Salary|\n",
            "+-------+---+----------+------+\n",
            "| Harsha| 21|         1| 15000|\n",
            "|Shubham| 23|         2| 18000|\n",
            "+-------+---+----------+------+\n",
            "\n"
          ]
        }
      ]
    },
    {
      "cell_type": "code",
      "source": [
        "## PYSPARK GROUP BY AND AGGREGATE FUNCTIONS\n",
        "df_pyspark = spark.read.csv('GroupByAndAggregateFunctions.csv',header=True,inferSchema=True)"
      ],
      "metadata": {
        "id": "Mv29pwQ8z23K"
      },
      "execution_count": null,
      "outputs": []
    },
    {
      "cell_type": "code",
      "source": [
        "df_pyspark.show()"
      ],
      "metadata": {
        "colab": {
          "base_uri": "https://localhost:8080/"
        },
        "id": "pEraPcnX9G1d",
        "outputId": "92cc0312-7df9-454a-8620-48b2785097e7"
      },
      "execution_count": null,
      "outputs": [
        {
          "output_type": "stream",
          "name": "stdout",
          "text": [
            "+---------+------------+------+\n",
            "|     Name| Departments|Salary|\n",
            "+---------+------------+------+\n",
            "|    Krish| DataScience| 10000|\n",
            "|    Krish|         IOT|  5000|\n",
            "|   Mahesh|    Big Data|  4000|\n",
            "|    Krish|    Big Data|  4000|\n",
            "|   Mahesh|Data Science|  3000|\n",
            "|Sudhanshu|Data Science| 20000|\n",
            "|Sudhanshu|         IOT|  6000|\n",
            "|    Sunny|    Big Data|  8000|\n",
            "+---------+------------+------+\n",
            "\n"
          ]
        }
      ]
    },
    {
      "cell_type": "code",
      "source": [
        "df_pyspark.printSchema()"
      ],
      "metadata": {
        "colab": {
          "base_uri": "https://localhost:8080/"
        },
        "id": "4B1iLu4l9IoN",
        "outputId": "f88fd6a1-10aa-48c6-fe51-749c3e6d5f5d"
      },
      "execution_count": null,
      "outputs": [
        {
          "output_type": "stream",
          "name": "stdout",
          "text": [
            "root\n",
            " |-- Name: string (nullable = true)\n",
            " |-- Departments: string (nullable = true)\n",
            " |-- Salary: integer (nullable = true)\n",
            "\n"
          ]
        }
      ]
    },
    {
      "cell_type": "code",
      "source": [
        "## GroupBy Operations\n",
        "df_pyspark.groupBy('Name').sum().show()"
      ],
      "metadata": {
        "colab": {
          "base_uri": "https://localhost:8080/"
        },
        "id": "byjUeYAP9kSi",
        "outputId": "ea4393ad-b038-4a00-bda6-353196ec434a"
      },
      "execution_count": null,
      "outputs": [
        {
          "output_type": "stream",
          "name": "stdout",
          "text": [
            "+---------+-----------+\n",
            "|     Name|sum(Salary)|\n",
            "+---------+-----------+\n",
            "|Sudhanshu|      26000|\n",
            "|    Sunny|       8000|\n",
            "|    Krish|      19000|\n",
            "|   Mahesh|       7000|\n",
            "+---------+-----------+\n",
            "\n"
          ]
        }
      ]
    },
    {
      "cell_type": "code",
      "source": [
        "## Group by department to see which department gets the maximum salary\n",
        "df_pyspark.groupBy('Departments').mean().show()"
      ],
      "metadata": {
        "colab": {
          "base_uri": "https://localhost:8080/"
        },
        "id": "mCWhwncNKx6y",
        "outputId": "36fea580-eb8c-4afa-ff33-b81cbb636e1a"
      },
      "execution_count": null,
      "outputs": [
        {
          "output_type": "stream",
          "name": "stdout",
          "text": [
            "+------------+-----------------+\n",
            "| Departments|      avg(Salary)|\n",
            "+------------+-----------------+\n",
            "|         IOT|           5500.0|\n",
            "|    Big Data|5333.333333333333|\n",
            "|Data Science|          11500.0|\n",
            "| DataScience|          10000.0|\n",
            "+------------+-----------------+\n",
            "\n"
          ]
        }
      ]
    },
    {
      "cell_type": "code",
      "source": [
        "df_pyspark.groupBy('Departments').count().show()"
      ],
      "metadata": {
        "colab": {
          "base_uri": "https://localhost:8080/"
        },
        "id": "MFzv6yHrL2ms",
        "outputId": "82db7b2a-0e8d-4295-e43a-8215a7eef8da"
      },
      "execution_count": null,
      "outputs": [
        {
          "output_type": "stream",
          "name": "stdout",
          "text": [
            "+------------+-----+\n",
            "| Departments|count|\n",
            "+------------+-----+\n",
            "|         IOT|    2|\n",
            "|    Big Data|    3|\n",
            "|Data Science|    2|\n",
            "| DataScience|    1|\n",
            "+------------+-----+\n",
            "\n"
          ]
        }
      ]
    },
    {
      "cell_type": "code",
      "source": [
        "df_pyspark.agg({'Salary':'sum'}).show()"
      ],
      "metadata": {
        "colab": {
          "base_uri": "https://localhost:8080/"
        },
        "id": "sJGfZ4v1Mhvy",
        "outputId": "ad338ffc-2c59-4a78-fce7-75702ab10fb9"
      },
      "execution_count": null,
      "outputs": [
        {
          "output_type": "stream",
          "name": "stdout",
          "text": [
            "+-----------+\n",
            "|sum(Salary)|\n",
            "+-----------+\n",
            "|      60000|\n",
            "+-----------+\n",
            "\n"
          ]
        }
      ]
    },
    {
      "cell_type": "code",
      "source": [
        "df_pyspark.groupBy('Name').max().show()"
      ],
      "metadata": {
        "colab": {
          "base_uri": "https://localhost:8080/"
        },
        "id": "uIUzC-MEMwNs",
        "outputId": "119ab730-d482-4a1b-f2d9-f61a90dec0c7"
      },
      "execution_count": null,
      "outputs": [
        {
          "output_type": "stream",
          "name": "stdout",
          "text": [
            "+---------+-----------+\n",
            "|     Name|max(Salary)|\n",
            "+---------+-----------+\n",
            "|Sudhanshu|      20000|\n",
            "|    Sunny|       8000|\n",
            "|    Krish|      10000|\n",
            "|   Mahesh|       4000|\n",
            "+---------+-----------+\n",
            "\n"
          ]
        }
      ]
    },
    {
      "cell_type": "code",
      "source": [
        "df_pyspark.groupBy('Name').avg().show()"
      ],
      "metadata": {
        "colab": {
          "base_uri": "https://localhost:8080/"
        },
        "id": "nKW5NP8WM-R7",
        "outputId": "42c37a51-fb40-488e-8c42-79554e2d855e"
      },
      "execution_count": null,
      "outputs": [
        {
          "output_type": "stream",
          "name": "stdout",
          "text": [
            "+---------+-----------------+\n",
            "|     Name|      avg(Salary)|\n",
            "+---------+-----------------+\n",
            "|Sudhanshu|          13000.0|\n",
            "|    Sunny|           8000.0|\n",
            "|    Krish|6333.333333333333|\n",
            "|   Mahesh|           3500.0|\n",
            "+---------+-----------------+\n",
            "\n"
          ]
        }
      ]
    },
    {
      "cell_type": "code",
      "source": [
        "## Predicting the Salary based on 2 columns Age and Experience\n",
        "training = spark.read.csv('LinearRegression.csv',header=True,inferSchema=True)"
      ],
      "metadata": {
        "id": "LK4eR4zsNPb1"
      },
      "execution_count": null,
      "outputs": []
    },
    {
      "cell_type": "code",
      "source": [
        "training.show()"
      ],
      "metadata": {
        "colab": {
          "base_uri": "https://localhost:8080/"
        },
        "id": "SL4EIYagPVoQ",
        "outputId": "2a1c0dc5-3499-445a-9fdc-c0143b85bb1a"
      },
      "execution_count": null,
      "outputs": [
        {
          "output_type": "stream",
          "name": "stdout",
          "text": [
            "+---------+---+----------+------+\n",
            "|    Name |Age|Experience|Salary|\n",
            "+---------+---+----------+------+\n",
            "|    Krish| 31|        10| 30000|\n",
            "|Sudhanshu| 30|         8| 25000|\n",
            "|    Sunny| 29|         4| 20000|\n",
            "|     Paul| 24|         3| 20000|\n",
            "|   Harsha| 21|         1| 15000|\n",
            "|  Shubham| 23|         2| 18000|\n",
            "+---------+---+----------+------+\n",
            "\n"
          ]
        }
      ]
    },
    {
      "cell_type": "code",
      "source": [
        "training.printSchema()"
      ],
      "metadata": {
        "colab": {
          "base_uri": "https://localhost:8080/"
        },
        "id": "k5m2BMonPcVa",
        "outputId": "56f9c4b5-0db8-4f82-aa27-0b60a1f5f38f"
      },
      "execution_count": null,
      "outputs": [
        {
          "output_type": "stream",
          "name": "stdout",
          "text": [
            "root\n",
            " |-- Name : string (nullable = true)\n",
            " |-- Age: integer (nullable = true)\n",
            " |-- Experience: integer (nullable = true)\n",
            " |-- Salary: integer (nullable = true)\n",
            "\n"
          ]
        }
      ]
    },
    {
      "cell_type": "code",
      "source": [
        "training.columns"
      ],
      "metadata": {
        "colab": {
          "base_uri": "https://localhost:8080/"
        },
        "id": "Q3GFkIu8Pot8",
        "outputId": "ebe41262-3854-4cf5-ac72-e74b2e3ef7f6"
      },
      "execution_count": null,
      "outputs": [
        {
          "output_type": "execute_result",
          "data": {
            "text/plain": [
              "['Name ', 'Age', 'Experience', 'Salary']"
            ]
          },
          "metadata": {},
          "execution_count": 82
        }
      ]
    },
    {
      "cell_type": "code",
      "source": [
        "## Grouping the Age and Experience and making them as a new feature which will be treated as independent feature\n",
        "from pyspark.ml.feature import VectorAssembler\n",
        "featureassembler=VectorAssembler(inputCols=[\"Age\",\"Experience\"],outputCol=\"Independent feature\")"
      ],
      "metadata": {
        "id": "BIm4TUfwSB65"
      },
      "execution_count": null,
      "outputs": []
    },
    {
      "cell_type": "code",
      "source": [
        "output = featureassembler.transform(training)"
      ],
      "metadata": {
        "id": "Q26CV-4ATBZq"
      },
      "execution_count": null,
      "outputs": []
    },
    {
      "cell_type": "code",
      "source": [
        "output.columns"
      ],
      "metadata": {
        "colab": {
          "base_uri": "https://localhost:8080/"
        },
        "id": "DDnLYNPnTZ02",
        "outputId": "a456f568-5f7f-452c-ce2f-263c3cd2a321"
      },
      "execution_count": null,
      "outputs": [
        {
          "output_type": "execute_result",
          "data": {
            "text/plain": [
              "['Name ', 'Age', 'Experience', 'Salary', 'Independent feature']"
            ]
          },
          "metadata": {},
          "execution_count": 86
        }
      ]
    },
    {
      "cell_type": "code",
      "source": [
        "output.show()"
      ],
      "metadata": {
        "colab": {
          "base_uri": "https://localhost:8080/"
        },
        "id": "xg1w83eWTbrm",
        "outputId": "39c0161b-7872-4a94-d7c5-c87e4f3b9fbd"
      },
      "execution_count": null,
      "outputs": [
        {
          "output_type": "stream",
          "name": "stdout",
          "text": [
            "+---------+---+----------+------+-------------------+\n",
            "|    Name |Age|Experience|Salary|Independent feature|\n",
            "+---------+---+----------+------+-------------------+\n",
            "|    Krish| 31|        10| 30000|        [31.0,10.0]|\n",
            "|Sudhanshu| 30|         8| 25000|         [30.0,8.0]|\n",
            "|    Sunny| 29|         4| 20000|         [29.0,4.0]|\n",
            "|     Paul| 24|         3| 20000|         [24.0,3.0]|\n",
            "|   Harsha| 21|         1| 15000|         [21.0,1.0]|\n",
            "|  Shubham| 23|         2| 18000|         [23.0,2.0]|\n",
            "+---------+---+----------+------+-------------------+\n",
            "\n"
          ]
        }
      ]
    },
    {
      "cell_type": "code",
      "source": [
        "finalized_data = output.select('Salary','Independent feature')"
      ],
      "metadata": {
        "id": "-dsUuyGPTe9l"
      },
      "execution_count": null,
      "outputs": []
    },
    {
      "cell_type": "code",
      "source": [
        "finalized_data.show()"
      ],
      "metadata": {
        "colab": {
          "base_uri": "https://localhost:8080/"
        },
        "id": "0ciIZIwoTzT4",
        "outputId": "2bf387a4-3cc4-4490-96b3-d2a26b9c5bec"
      },
      "execution_count": null,
      "outputs": [
        {
          "output_type": "stream",
          "name": "stdout",
          "text": [
            "+------+-------------------+\n",
            "|Salary|Independent feature|\n",
            "+------+-------------------+\n",
            "| 30000|        [31.0,10.0]|\n",
            "| 25000|         [30.0,8.0]|\n",
            "| 20000|         [29.0,4.0]|\n",
            "| 20000|         [24.0,3.0]|\n",
            "| 15000|         [21.0,1.0]|\n",
            "| 18000|         [23.0,2.0]|\n",
            "+------+-------------------+\n",
            "\n"
          ]
        }
      ]
    },
    {
      "cell_type": "code",
      "source": [
        "from pyspark.ml.regression import LinearRegression\n",
        "## train test split\n",
        "train_data, test_data = finalized_data.randomSplit([0.75,0.25])\n",
        "regressor = LinearRegression(featuresCol=\"Independent feature\",labelCol=\"Salary\")\n",
        "regressor = regressor.fit(train_data)"
      ],
      "metadata": {
        "id": "Nogi4a0jT1LT"
      },
      "execution_count": null,
      "outputs": []
    },
    {
      "cell_type": "code",
      "source": [
        "### Coefficients\n",
        "regressor.coefficients"
      ],
      "metadata": {
        "colab": {
          "base_uri": "https://localhost:8080/"
        },
        "id": "A7xftAQ4U629",
        "outputId": "95729b21-bc01-413e-ada1-ead00fdc55cc"
      },
      "execution_count": null,
      "outputs": [
        {
          "output_type": "execute_result",
          "data": {
            "text/plain": [
              "DenseVector([-64.8464, 1584.7554])"
            ]
          },
          "metadata": {},
          "execution_count": 91
        }
      ]
    },
    {
      "cell_type": "code",
      "source": [
        "regressor.intercept"
      ],
      "metadata": {
        "colab": {
          "base_uri": "https://localhost:8080/"
        },
        "id": "YxiXyvtkVDiK",
        "outputId": "18c5d86a-c116-4033-cbbf-14ab2fb612ce"
      },
      "execution_count": null,
      "outputs": [
        {
          "output_type": "execute_result",
          "data": {
            "text/plain": [
              "15414.10693970355"
            ]
          },
          "metadata": {},
          "execution_count": 92
        }
      ]
    },
    {
      "cell_type": "code",
      "source": [
        "## Prediction\n",
        "pred_results = regressor.evaluate(test_data)"
      ],
      "metadata": {
        "id": "mAXnf2ciVHwG"
      },
      "execution_count": null,
      "outputs": []
    },
    {
      "cell_type": "code",
      "source": [
        "pred_results.predictions.show()"
      ],
      "metadata": {
        "colab": {
          "base_uri": "https://localhost:8080/"
        },
        "id": "WXoHDz3oVhiZ",
        "outputId": "b8627c6b-c2d1-4149-94f5-de18a79c003e"
      },
      "execution_count": null,
      "outputs": [
        {
          "output_type": "stream",
          "name": "stdout",
          "text": [
            "+------+-------------------+------------------+\n",
            "|Salary|Independent feature|        prediction|\n",
            "+------+-------------------+------------------+\n",
            "| 20000|         [24.0,3.0]|18612.059158134216|\n",
            "+------+-------------------+------------------+\n",
            "\n"
          ]
        }
      ]
    },
    {
      "cell_type": "code",
      "source": [],
      "metadata": {
        "id": "a3GTxrDmVmqA"
      },
      "execution_count": null,
      "outputs": []
    }
  ]
}